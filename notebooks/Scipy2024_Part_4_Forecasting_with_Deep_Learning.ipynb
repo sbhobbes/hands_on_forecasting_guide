{
  "cells": [
    {
      "cell_type": "markdown",
      "id": "7a7aadd9-5fee-48d5-8231-2d38255af726",
      "metadata": {
        "id": "7a7aadd9-5fee-48d5-8231-2d38255af726"
      },
      "source": [
        "# Part 4: Forecasting with Deep Learning"
      ]
    },
    {
      "cell_type": "markdown",
      "id": "CuHH-sV5pD98",
      "metadata": {
        "id": "CuHH-sV5pD98"
      },
      "source": [
        "## Tabular vs. Non-Tabular Models\n",
        "\n",
        "In the previous notebook, we used a tabular machine learning model for forecasting. Tabular models, such as [decision forests](https://developers.google.com/machine-learning/decision-forests), [feed-forward neural networks](https://en.wikipedia.org/wiki/Feedforward_neural_network), [SVMs](https://en.wikipedia.org/wiki/Support_vector_machine), and [Nearest neighbors](https://en.wikipedia.org/wiki/K-nearest_neighbors_algorithm) work well when each column of the dataset represents an independent piece of information.\n",
        "\n",
        "However, not all datasets are tabular. In non-tabular data, the key patterns or discriminative information lie in the relationships between features, not just their individual values. Consider an [image classification task](https://en.wikipedia.org/wiki/Computer_vision#Recognition) where the objective is to detect cats: treating each pixel as an independent column in a tabular model ignores the spatial relationships that define a cat's shape. The model might learn to recognize cats in one specific location, but struggle to generalize that knowledge to other parts of the image.\n",
        "\n",
        "Simple neural networks, like feed-forward networks, suffer from the problem described above. However, neural networks have a peculiarity: their architecture is flexible. This flexibility allows us to design architectures to consume special types of non-tabular data such as images, graphs, text... and time series. You might have heard of architecture names such as [convolutional neural networks](https://en.wikipedia.org/wiki/Convolutional_neural_network) (CNNs), [recurrent neural networks](https://en.wikipedia.org/wiki/Recurrent_neural_network) (RNNs), [graph neural networks](https://en.wikipedia.org/wiki/Graph_neural_network) (GNN), or [transformers](https://en.wikipedia.org/wiki/Transformer_(deep_learning_architecture)).\n",
        "\n",
        "## Neural Networks for Time Series\n",
        "\n",
        "In this tutorial, we'll explore how to use specialized neural networks for time series forecasting.\n",
        "\n",
        "Some of the noteworthy models in this category include **DeepAR**, **NHits** and **PatchTST** - which use a recurrent, MLP, and transformer-based architecture respectively.\n",
        "\n",
        "There's a problem with these though - they need to be trained. And training a huge transformer network, like PatchTST, is costly, slow and requires a lot of data. This is why a new class of models started emerging last year: **foundational** time series models.\n",
        "\n",
        "Think of foundational models as the equivalent of big pretrained LLMs (since they pretty much are) - they are pretrained on enormous amounts of data, and can be applied zero-shot (i.e., without re-training) on unseen time series. Some noteworthy models in this area include Nixtla's TimeGPT, Google's TimesFM, and AWS' Chronos.\n",
        "\n",
        "Note that this is very much an active area of research - and we are presenting them as an interesting development rather than as a recommended approach for a production system :)\n",
        "\n",
        "Designing neural network architectures can be complex, so we'll focus on two libraries that provide pre-configured models, making them easier to use:\n",
        "\n",
        "- **DeepAR**: This model uses an autoregressive recurrent neural network architecture. We will train this model and then generate predictions. See the [paper](https://arxiv.org/abs/1704.04110) for more details.\n",
        "- **TimesFM**: This is a foundational model using a transformer architecture. See the [paper](https://arxiv.org/abs/2310.10688) for more details."
      ]
    },
    {
      "cell_type": "markdown",
      "id": "SSB9xcemlMSW",
      "metadata": {
        "id": "SSB9xcemlMSW"
      },
      "source": [
        "## Preparation\n",
        "\n",
        "For optimal performance, run this notebook on a GPU if available. If you're using Google Colab, you can add a GPU in \"Edit / Notebook Settings / T4 GPU\".\n"
      ]
    },
    {
      "cell_type": "code",
      "execution_count": null,
      "id": "yHE4dTW7dGK6",
      "metadata": {
        "id": "yHE4dTW7dGK6"
      },
      "outputs": [],
      "source": [
        "# If SOLVING_EXERCISES=True, runs the user's answers.\n",
        "# If SOLVING_EXERCISES=False, only runs the provided solutions.\n",
        "SOLVING_EXERCISES = True"
      ]
    },
    {
      "cell_type": "markdown",
      "id": "D8HQLvuE1n6y",
      "metadata": {
        "id": "D8HQLvuE1n6y"
      },
      "source": [
        "\n",
        "## Dependencies"
      ]
    },
    {
      "cell_type": "code",
      "execution_count": null,
      "id": "ccU_gwDzSprf",
      "metadata": {
        "id": "ccU_gwDzSprf"
      },
      "outputs": [],
      "source": [
        "!pip install matplotlib pandas \"numpy<2.0.0\" gluonts[torch] timesfm -qq -U"
      ]
    },
    {
      "cell_type": "markdown",
      "id": "crvVxLq3SVGh",
      "metadata": {
        "id": "crvVxLq3SVGh"
      },
      "source": [
        "<font color=\"red\">WARNING:</font> Restart the notebook / colab kernel after the `pip install` commands above (e.g., Menu > Runtime / Restart settion). If you don't, you might get the `module 'numpy.linalg._umath_linalg' has no attribute '_ilp64'` error."
      ]
    },
    {
      "cell_type": "code",
      "execution_count": null,
      "id": "yzwnXSskpK1b",
      "metadata": {
        "id": "yzwnXSskpK1b"
      },
      "outputs": [],
      "source": [
        "from typing import Any\n",
        "from dataclasses import dataclass\n",
        "import numpy as np\n",
        "import pandas as pd\n",
        "import matplotlib.pyplot as plt\n",
        "from datetime import datetime, timedelta\n",
        "\n",
        "import timesfm\n",
        "\n",
        "from gluonts.torch import DeepAREstimator\n",
        "from gluonts.dataset.repository.datasets import get_dataset as gluonts_get_dataset\n",
        "from gluonts.dataset.util import to_pandas as gluonts_to_pandas\n",
        "from gluonts.dataset.split import DateSplitter"
      ]
    },
    {
      "cell_type": "markdown",
      "id": "mIRWRHi4lScY",
      "metadata": {
        "id": "mIRWRHi4lScY"
      },
      "source": [
        "## ETT Dataset\n",
        "\n",
        "Electricity is notoriously difficult to store, making accurate predictions of both consumption and the behavior of electrical installations a critical concern. Inaccurate forecasts can lead to imbalances in the power grid, inefficiencies, and even outages. In this notebook, we will use the ETT (Electricity Transformer Temperature) dataset. This real-world dataset contains data of two electricity transformers located in China over two years and sampled every hour. The dataset contains the oil temperature, which is what we will be forecasting, as well as various aspects of the transformers.\n",
        "\n",
        "See more details at: https://github.com/zhouhaoyi/ETDataset"
      ]
    },
    {
      "cell_type": "markdown",
      "id": "s7o71YI-nVDl",
      "metadata": {
        "id": "s7o71YI-nVDl"
      },
      "source": [
        "We first load the dataset using the Gluon library."
      ]
    },
    {
      "cell_type": "code",
      "execution_count": null,
      "id": "auG2_k7Eo-fU",
      "metadata": {
        "id": "auG2_k7Eo-fU"
      },
      "outputs": [],
      "source": [
        "gluon_dataset = gluonts_get_dataset(\"ett_small_1h\", regenerate=False).test"
      ]
    },
    {
      "cell_type": "markdown",
      "id": "_SPD7KTjnZl8",
      "metadata": {
        "id": "_SPD7KTjnZl8"
      },
      "source": [
        "While the gluon data structure is well suited for this dataset, we convert it into a simpler format that can be used with other libraries."
      ]
    },
    {
      "cell_type": "code",
      "execution_count": null,
      "id": "bGtbE_cqta-n",
      "metadata": {
        "id": "bGtbE_cqta-n"
      },
      "outputs": [],
      "source": [
        "@dataclass\n",
        "class TimeSeries:\n",
        "  \"\"\"A multi-variate time series.\n",
        "\n",
        "  Attributes:\n",
        "    timestamps: The \"n\" timestamps of the time series.\n",
        "    features: A dictionary of feature values. Each feature value contains \"n\"\n",
        "      elements corresponding to the \"n\" timestamps.\n",
        "  \"\"\"\n",
        "  timestamps: list[datetime]\n",
        "  features: dict[str, np.ndarray]\n",
        "\n",
        "def gluon_ds_to_timeseries(gluon_ds) -> TimeSeries:\n",
        "  \"\"\"Converts a Gluon dataset into our timeseries format.\"\"\"\n",
        "  timestamps = None\n",
        "  features = {}\n",
        "  for x in gluon_ds:\n",
        "    if timestamps is None:\n",
        "      timestamps = [ x[\"start\"].start_time + timedelta(hours=i) for i in range(len(x[\"target\"])) ]\n",
        "    features[x[\"item_id\"]] = x[\"target\"]\n",
        "  return TimeSeries(timestamps=timestamps,features=features)\n",
        "\n",
        "# Convert the dataset to our format\n",
        "dataset = gluon_ds_to_timeseries(gluon_dataset)\n",
        "\n",
        "# Plot the dataset\n",
        "fig, ax = plt.subplots(figsize=(14, 8))\n",
        "for name, feature in dataset.features.items():\n",
        "  ax.plot(dataset.timestamps, feature, label=name, linewidth=0.7)\n",
        "ax.legend();"
      ]
    },
    {
      "cell_type": "markdown",
      "id": "q8Zz7sNCoQgp",
      "metadata": {
        "id": "q8Zz7sNCoQgp"
      },
      "source": [
        "In the plot above, you can see the various time series in the dataset. We are mostly interested in the oil temperature of the two transformers, marked as \"OT_0\" and \"OT_1\".\n",
        "\n",
        "We extract extract the end-date of the dataset."
      ]
    },
    {
      "cell_type": "code",
      "execution_count": null,
      "id": "sfyqfwzSxVtW",
      "metadata": {
        "id": "sfyqfwzSxVtW"
      },
      "outputs": [],
      "source": [
        "end_of_data = dataset.timestamps[-1]\n",
        "end_of_data"
      ]
    },
    {
      "cell_type": "markdown",
      "id": "lJ9lNC82op-q",
      "metadata": {
        "id": "lJ9lNC82op-q"
      },
      "source": [
        "We make predictions on the last week of data, so that we can compare our predictions with the real data. However, we need to \"mask\" this last week of data from the models."
      ]
    },
    {
      "cell_type": "code",
      "execution_count": null,
      "id": "nrY6thVwxgLW",
      "metadata": {
        "id": "nrY6thVwxgLW"
      },
      "outputs": [],
      "source": [
        "end_of_train = end_of_data - timedelta(days=7)\n",
        "end_of_train"
      ]
    },
    {
      "cell_type": "markdown",
      "id": "ZbsapIo4o9NX",
      "metadata": {
        "id": "ZbsapIo4o9NX"
      },
      "source": [
        "In the next plot the red vertical line shows the separation between the data available and the data not available to the model. To make the plot more readable, we plot 3 weeks of data."
      ]
    },
    {
      "cell_type": "code",
      "execution_count": null,
      "id": "ulOiTse8w7BC",
      "metadata": {
        "id": "ulOiTse8w7BC"
      },
      "outputs": [],
      "source": [
        "fig, ax = plt.subplots(figsize=(16, 10))\n",
        "# Separation between available and non available data.\n",
        "plt.axvline(end_of_train, color=\"r\")\n",
        "# Plot a 3 weeks window of data.\n",
        "ax.set_xlim(\n",
        "    left=end_of_train - timedelta(days=14),\n",
        "    right=end_of_data,\n",
        ")\n",
        "\n",
        "for name, feature in dataset.features.items():\n",
        "  ax.plot(dataset.timestamps, feature, label=name, linewidth=0.7)\n",
        "ax.legend();"
      ]
    },
    {
      "cell_type": "markdown",
      "id": "WAqgh2xvpQ_k",
      "metadata": {
        "id": "WAqgh2xvpQ_k"
      },
      "source": [
        "## DeepAR\n",
        "\n",
        "We train a DeepAR model on the masked data.\n",
        "\n",
        "### Exercise\n",
        "\n",
        "Create the following 2 objects, following each's documentation:\n",
        "- A [DateSplitter](https://ts.gluon.ai/stable/api/gluonts/gluonts.dataset.split.html?highlight=datesplitter#gluonts.dataset.split.DateSplitter), which splits splits our dataset into train and test splits on `end_of_train`.\n",
        "- A [DeepAREstimator](https://ts.gluon.ai/stable/api/gluonts/gluonts.mx.model.deepar.html#gluonts.mx.model.deepar.DeepAREstimator), which predicts 7 days ahead, on an hourly frequency. Pass `trainer_kwargs={\"max_epochs\": 5}` to it to limit how long its training will take."
      ]
    },
    {
      "cell_type": "code",
      "execution_count": null,
      "id": "GNHXggQzse_7",
      "metadata": {
        "id": "GNHXggQzse_7"
      },
      "outputs": [],
      "source": [
        "if SOLVING_EXERCISES:\n",
        "    splitter = ...  # YOUR CODE HERE\n",
        "\n",
        "    gluon_train_ds, gluon_test_ds = splitter.split(gluon_dataset)\n",
        "\n",
        "    learner = ...  # YOUR CODE HERE\n",
        "\n",
        "    model = learner.train(gluon_train_ds)"
      ]
    },
    {
      "cell_type": "code",
      "execution_count": null,
      "id": "RQSb04Mncoan",
      "metadata": {
        "cellView": "form",
        "id": "RQSb04Mncoan"
      },
      "outputs": [],
      "source": [
        "#@title Solution\n",
        "\n",
        "splitter = DateSplitter(date=pd.Period(end_of_train, \"h\"))\n",
        "\n",
        "gluon_train_ds, gluon_test_ds = splitter.split(gluon_dataset)\n",
        "\n",
        "learner = DeepAREstimator(\n",
        "    prediction_length=24 * 7,\n",
        "    freq=\"h\",\n",
        "    trainer_kwargs={\n",
        "        # Hyper-parameters of the learner / estimator.\n",
        "        # Check documentation for other parameters.\n",
        "        \"max_epochs\": 5,\n",
        "        },\n",
        "    )\n",
        "\n",
        "model = learner.train(gluon_train_ds)"
      ]
    },
    {
      "cell_type": "markdown",
      "id": "pzTM88qHpnuz",
      "metadata": {
        "id": "pzTM88qHpnuz"
      },
      "source": [
        "We use the trained model to generate predictions, and convert the Gluon prediction object into our Timeseries data structure."
      ]
    },
    {
      "cell_type": "code",
      "execution_count": null,
      "id": "bgLW3GlX3OV7",
      "metadata": {
        "id": "bgLW3GlX3OV7"
      },
      "outputs": [],
      "source": [
        "def gluon_predictions_to_timeseries(model, gluon_test_ds):\n",
        "  timestamps = None\n",
        "  features = {}\n",
        "  X = gluon_test_ds.generate_instances(prediction_length=24 * 7)\n",
        "  for x in model.predict(X.input):\n",
        "    if timestamps is None:\n",
        "      timestamps = x.index.to_timestamp()\n",
        "    features[x.item_id] = x.mean\n",
        "  return TimeSeries(timestamps=timestamps,features=features)\n",
        "\n",
        "predictions = gluon_predictions_to_timeseries(model, gluon_test_ds)"
      ]
    },
    {
      "cell_type": "markdown",
      "id": "fd6wk0kyp2Ed",
      "metadata": {
        "id": "fd6wk0kyp2Ed"
      },
      "source": [
        "Finally, we can plot the model prediction alongside the real data."
      ]
    },
    {
      "cell_type": "code",
      "execution_count": null,
      "id": "f_Iu2YdftSta",
      "metadata": {
        "id": "f_Iu2YdftSta"
      },
      "outputs": [],
      "source": [
        "def plot_predictions(predictions, dataset, end_of_data, end_of_train):\n",
        "    fig, ax = plt.subplots(figsize=(14, 8))\n",
        "\n",
        "    # Separation between available and non available data.\n",
        "    plt.axvline(end_of_train, color=\"r\")\n",
        "\n",
        "    # Plot a 3 weeks window of data.\n",
        "    ax.set_xlim(\n",
        "        left=end_of_train - timedelta(days=14),\n",
        "        right=end_of_data,\n",
        "    )\n",
        "\n",
        "    # Select the features to display.\n",
        "    name_of_interest = [\"OT_0\", \"OT_1\"]\n",
        "\n",
        "    def display(name):\n",
        "      for n in name_of_interest:\n",
        "        if n in name:\n",
        "          return True\n",
        "      return False\n",
        "\n",
        "    # Predictions\n",
        "    for name, feature in predictions.features.items():\n",
        "        if not display(name):\n",
        "            continue\n",
        "        ax.plot(predictions.timestamps, feature, label=f\"predict {name}\", linestyle=\"dashed\")\n",
        "\n",
        "    # Real values\n",
        "    for name, feature in dataset.features.items():\n",
        "        if not display(name):\n",
        "            continue\n",
        "        ax.plot(dataset.timestamps, feature, label=name, linewidth=0.7)\n",
        "\n",
        "    ax.legend()\n",
        "\n",
        "plot_predictions(predictions, dataset, end_of_data, end_of_train)"
      ]
    },
    {
      "cell_type": "markdown",
      "id": "st0ZrDJ8p6vN",
      "metadata": {
        "id": "st0ZrDJ8p6vN"
      },
      "source": [
        "We can see that the model was able to learn the overall shape of the oil temperature of each transformer (e.g. OT_1 has a strong daily pattern while OT_0 is flatter), but both models are over-estimating the temperature.\n",
        "\n",
        "The model was trained with \"out-of-the-box\" parameter settings, except for reducing the number of epoch to speed-up training. In other words, we used the default hyper-parameter values.\n",
        "\n",
        "Out-of-the-box results can be useful baselines, but for practical applications, it is crucial to use tune the optimizer the hyper-parameters (e.g., automated hyper-parameter tuning) with train-valid-test protocol (see previous notebook).\n"
      ]
    },
    {
      "cell_type": "markdown",
      "id": "NvnVM4vfY3JE",
      "metadata": {
        "id": "NvnVM4vfY3JE"
      },
      "source": [
        "#### Question (If you have time)\n",
        "\n",
        "Create a 4*7 = 28 days validation dataset and optimize the hyper-parameters of the estimator.\n"
      ]
    },
    {
      "cell_type": "markdown",
      "id": "rAYj__8fr8Cn",
      "metadata": {
        "id": "rAYj__8fr8Cn"
      },
      "source": [
        "## TimesFM\n",
        "\n",
        "TimesFM is a foundational model - an ML model trained on a large amount of diverse datasets and which can be used out-of-the-box without extra training.\n",
        "While foundational models can be fine-tuned for improved performance on specific tasks, this operation is computationally expensive. So, for this tutorial, we'll use TimesFM out-of-the-box.\n",
        "\n",
        "Often, foundational models have multiple versions of increased complexity and prediction quality. However, currently, only one version of TimesFM was released so we will use this one.\n",
        "\n",
        "### Exercise\n",
        "\n",
        "Create a [timesfm.TimesFm](https://github.com/google-research/timesfm?tab=readme-ov-file#usage) object in gpu, with a 7-day horizon and ~7-day (note the `context_len` restriction in the docs) context length, and load it from the `google/timesfm-1.0-200m` checkpoint. Note that the docs specify **some parameters are fixed** for loading the 200m model."
      ]
    },
    {
      "cell_type": "code",
      "execution_count": null,
      "id": "yhgnYYs_TSnw",
      "metadata": {
        "id": "yhgnYYs_TSnw"
      },
      "outputs": [],
      "source": [
        "if SOLVING_EXERCISES:\n",
        "    # Configure the model architecture.\n",
        "    tfm = timesfm.TimesFm(\n",
        "        ... # YOUR CODE HERE\n",
        "    )\n",
        "\n",
        "    # Load the model's checkpoint\n",
        "    ... # YOUR CODE HERE"
      ]
    },
    {
      "cell_type": "code",
      "execution_count": null,
      "id": "owNq6JBCje-1",
      "metadata": {
        "colab": {
          "background_save": true
        },
        "id": "owNq6JBCje-1",
        "cellView": "form"
      },
      "outputs": [],
      "source": [
        "#@title Solution\n",
        "\n",
        "tfm = timesfm.TimesFm(\n",
        "    backend=\"gpu\", # Use \"gpu\" if you have a gpu. Otherwise, use \"cpu\".\n",
        "    context_len=32*5, # How far, in hours, the model look in the past.\n",
        "    horizon_len=7*24, # How many hours the model predicts in the future.\n",
        "    input_patch_len=32, # Model internal parameter. Cannot be changed.\n",
        "    output_patch_len=128, # Model internal parameter. Cannot be changed.\n",
        "    num_layers=20, # Model internal parameter. Cannot be changed.\n",
        "    model_dims=1280, # Model internal parameter. Cannot be changed.\n",
        ")\n",
        "tfm.load_from_checkpoint(repo_id=\"google/timesfm-1.0-200m\")"
      ]
    },
    {
      "cell_type": "markdown",
      "id": "BFh70clwscUH",
      "metadata": {
        "id": "BFh70clwscUH"
      },
      "source": [
        "Same as before, we mask the last week of data."
      ]
    },
    {
      "cell_type": "code",
      "execution_count": null,
      "id": "uq3rt6pLXr15",
      "metadata": {
        "colab": {
          "background_save": true
        },
        "id": "uq3rt6pLXr15"
      },
      "outputs": [],
      "source": [
        "def extract_train_dataset(dataset, date):\n",
        "  mask = np.asarray(dataset.timestamps) < date\n",
        "  return TimeSeries(\n",
        "      timestamps = np.asarray(dataset.timestamps)[mask],\n",
        "      features = { name:feature[mask] for name, feature in dataset.features.items() }\n",
        "  )\n",
        "\n",
        "train_dataset = extract_train_dataset(dataset, end_of_train)"
      ]
    },
    {
      "cell_type": "markdown",
      "id": "2nF399WtsgsW",
      "metadata": {
        "id": "2nF399WtsgsW"
      },
      "source": [
        "The model does not need to be trained. We can directly use it to make predictions."
      ]
    },
    {
      "cell_type": "code",
      "execution_count": null,
      "id": "2qQeebVpXP32",
      "metadata": {
        "colab": {
          "background_save": true
        },
        "id": "2qQeebVpXP32"
      },
      "outputs": [],
      "source": [
        "forecast_input = train_dataset.features.values()\n",
        "frequency_input = [0] * len(train_dataset.features)\n",
        "\n",
        "timesfm_predictions, _ = tfm.forecast(forecast_input,freq=frequency_input)\n",
        "timesfm_predictions.shape"
      ]
    },
    {
      "cell_type": "markdown",
      "id": "TDVVj80zxTMN",
      "metadata": {
        "id": "TDVVj80zxTMN"
      },
      "source": [
        "`predictions` is an array where `predictions[i,j]` is the prediction of the j-th day of the i-th timeseries.\n",
        "\n",
        "Same as before, let's convert the TimesFM predictions into our time series data structure."
      ]
    },
    {
      "cell_type": "code",
      "execution_count": null,
      "id": "bOiMTd7Ixxsh",
      "metadata": {
        "colab": {
          "background_save": true
        },
        "id": "bOiMTd7Ixxsh"
      },
      "outputs": [],
      "source": [
        "def timesfm_predictions_to_timeseries(timesfm_predictions, prefix: str = \"\", features = None) -> TimeSeries:\n",
        "    if features is None:\n",
        "      features = {}\n",
        "    timestamps = [ end_of_train + timedelta(hours=i) for i in range(timesfm_predictions.shape[1]) ]\n",
        "    for name, prediction in zip(train_dataset.features.keys(), timesfm_predictions):\n",
        "        features[prefix + name] = prediction\n",
        "    return TimeSeries(timestamps=timestamps,features=features)\n",
        "\n",
        "predictions = timesfm_predictions_to_timeseries(timesfm_predictions)"
      ]
    },
    {
      "cell_type": "code",
      "execution_count": null,
      "id": "AsOtltWVXrdW",
      "metadata": {
        "colab": {
          "background_save": true
        },
        "id": "AsOtltWVXrdW"
      },
      "outputs": [],
      "source": [
        "plot_predictions(predictions, dataset, end_of_data, end_of_train)"
      ]
    },
    {
      "cell_type": "markdown",
      "id": "UlTn6nmzysFx",
      "metadata": {
        "id": "UlTn6nmzysFx"
      },
      "source": [
        "We can see that TimesFM is able to predict both the overall value as well as the small fluctuations of each transformer oil temperature."
      ]
    },
    {
      "cell_type": "markdown",
      "id": "DBMTgyluaqqE",
      "metadata": {
        "id": "DBMTgyluaqqE"
      },
      "source": [
        "Because the model is pre-trained, most of the hyper-parameters of the model cannot be configured. Parameters that can be configured include \"context_len\" and \"window_size\".\n",
        "\n",
        "#### Exercise\n",
        "\n",
        "Compute and compare the RMSE of the model when using a `context_len` of 32, 64, ..., 35*32 (note that `context_len` must be a multiple of 32 for TimesFM), and comment on the results.\n",
        "\n",
        "This is a more open-ended exercise - feel free to take a look at the solution for inspiration.\n"
      ]
    },
    {
      "cell_type": "markdown",
      "id": "qVOe01i5asdL",
      "metadata": {
        "id": "qVOe01i5asdL"
      },
      "source": [
        "#### Solution"
      ]
    },
    {
      "cell_type": "code",
      "execution_count": null,
      "id": "-I9TQzNXatTm",
      "metadata": {
        "colab": {
          "background_save": true
        },
        "id": "-I9TQzNXatTm"
      },
      "outputs": [],
      "source": [
        "num_context_len_idx = 35\n",
        "max_context_len = 32 * num_context_len_idx\n",
        "\n",
        "tfm = timesfm.TimesFm(\n",
        "  backend=\"gpu\", # Use \"gpu\" if you have a gpu. Otherwise, use \"cpu\".\n",
        "  context_len=max_context_len, # How far, in hours, the model look in the past.\n",
        "  horizon_len=7*24, # How many hours the model predicts in the future.\n",
        "  input_patch_len=32, # Model internal parameter. Cannot be changed.\n",
        "  output_patch_len=128, # Model internal parameter. Cannot be changed.\n",
        "  num_layers=20, # Model internal parameter. Cannot be changed.\n",
        "  model_dims=1280, # Model internal parameter. Cannot be changed.\n",
        "  verbose=False,\n",
        ")\n",
        "tfm.load_from_checkpoint(repo_id=\"google/timesfm-1.0-200m\")\n",
        "\n",
        "results = []\n",
        "for context_len_idx in range(1, num_context_len_idx):\n",
        "  context_len = 32 * context_len_idx\n",
        "\n",
        "  # Generate predictions\n",
        "  timesfm_predictions, _ = tfm.forecast(forecast_input,\n",
        "                                        freq=frequency_input,\n",
        "                                        forecast_context_len=context_len)\n",
        "\n",
        "  # Convert prediction to our format\n",
        "  predictions = timesfm_predictions_to_timeseries(timesfm_predictions)\n",
        "\n",
        "  # Evaluate predictions\n",
        "  ot_prediction = predictions.features[\"OT_0\"]\n",
        "  ot_ground_truth = dataset.features[\"OT_0\"][-len(ot_prediction):]\n",
        "  rmse = np.sqrt(np.mean((ot_prediction-ot_ground_truth)**2))\n",
        "\n",
        "  results.append({\n",
        "      \"rmse\": rmse,\n",
        "      \"context_len\": context_len,\n",
        "  })\n",
        "\n",
        "results = pd.DataFrame(results)\n",
        "results"
      ]
    },
    {
      "cell_type": "markdown",
      "id": "7xmu_if6hNWy",
      "metadata": {
        "id": "7xmu_if6hNWy"
      },
      "source": [
        "Let's plot the RMSE according to the context len."
      ]
    },
    {
      "cell_type": "code",
      "execution_count": null,
      "id": "eDh49m__gaDh",
      "metadata": {
        "colab": {
          "background_save": true
        },
        "id": "eDh49m__gaDh"
      },
      "outputs": [],
      "source": [
        "plt.plot(results[\"context_len\"], results[\"rmse\"])\n",
        "plt.xlabel(\"context len\")\n",
        "plt.ylabel(\"rmse\")"
      ]
    },
    {
      "cell_type": "markdown",
      "id": "-9gh0vUDj-ic",
      "metadata": {
        "id": "-9gh0vUDj-ic"
      },
      "source": [
        "On this test set, the optimal context length is ~ 550 steps. This finding aligns with the notion that insufficient context limits the model's access to crucial information, while an excessively long context increases the likelihood of the model focusing on irrelevant details.\n",
        "\n",
        "To validate these results, it would be beneficial to repeat the train-test split procedure multiple times, with different split points each time.\n"
      ]
    },
    {
      "cell_type": "markdown",
      "id": "n734Vc4VatoV",
      "metadata": {
        "id": "n734Vc4VatoV"
      },
      "source": [
        "#### End of solution"
      ]
    }
  ],
  "metadata": {
    "accelerator": "GPU",
    "colab": {
      "gpuType": "T4",
      "provenance": [],
      "collapsed_sections": [
        "qVOe01i5asdL"
      ]
    },
    "kernelspec": {
      "display_name": "Python 3",
      "name": "python3"
    },
    "language_info": {
      "codemirror_mode": {
        "name": "ipython",
        "version": 3
      },
      "file_extension": ".py",
      "mimetype": "text/x-python",
      "name": "python",
      "nbconvert_exporter": "python",
      "pygments_lexer": "ipython3",
      "version": "3.11.8"
    }
  },
  "nbformat": 4,
  "nbformat_minor": 5
}